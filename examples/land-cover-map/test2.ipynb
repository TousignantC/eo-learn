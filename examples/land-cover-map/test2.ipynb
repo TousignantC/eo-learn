{
 "cells": [
  {
   "cell_type": "code",
   "execution_count": 1,
   "metadata": {},
   "outputs": [],
   "source": [
    "from eolearn.core import EOTask, EOPatch, LinearWorkflow, FeatureType, OverwritePermission, \\\n",
    "    LoadFromDisk, SaveToDisk, EOExecutor\n",
    "from eolearn.io import S2L1CWCSInput, S1IWWCSInput, ExportToTiff\n",
    "from sentinelhub import BBoxSplitter, BBox, CRS, CustomUrlParam\n",
    "import os\n",
    "import geopandas as gpd\n",
    "import numpy as np\n",
    "import matplotlib.pyplot as plt\n",
    "import matplotlib as mpl\n",
    "from shapely.geometry import Polygon\n"
   ]
  },
  {
   "cell_type": "code",
   "execution_count": null,
   "metadata": {},
   "outputs": [],
   "source": []
  },
  {
   "cell_type": "code",
   "execution_count": 2,
   "metadata": {},
   "outputs": [],
   "source": [
    "import arcpy"
   ]
  },
  {
   "cell_type": "code",
   "execution_count": 1,
   "metadata": {},
   "outputs": [
    {
     "ename": "NameError",
     "evalue": "name 'os' is not defined",
     "output_type": "error",
     "traceback": [
      "\u001b[1;31m---------------------------------------------------------------------------\u001b[0m",
      "\u001b[1;31mNameError\u001b[0m                                 Traceback (most recent call last)",
      "\u001b[1;32m<ipython-input-1-cb26b94d9539>\u001b[0m in \u001b[0;36m<module>\u001b[1;34m\u001b[0m\n\u001b[0;32m      1\u001b[0m \u001b[0mDATA_FOLDER\u001b[0m \u001b[1;33m=\u001b[0m \u001b[1;34m'C:\\data\\S1_test'\u001b[0m\u001b[1;33m\u001b[0m\u001b[1;33m\u001b[0m\u001b[0m\n\u001b[1;32m----> 2\u001b[1;33m \u001b[0mLOGS_FOLDER\u001b[0m \u001b[1;33m=\u001b[0m \u001b[0mos\u001b[0m\u001b[1;33m.\u001b[0m\u001b[0mpath\u001b[0m\u001b[1;33m.\u001b[0m\u001b[0mjoin\u001b[0m\u001b[1;33m(\u001b[0m\u001b[0mDATA_FOLDER\u001b[0m\u001b[1;33m,\u001b[0m \u001b[1;34m'logs'\u001b[0m\u001b[1;33m)\u001b[0m\u001b[1;33m\u001b[0m\u001b[1;33m\u001b[0m\u001b[0m\n\u001b[0m\u001b[0;32m      3\u001b[0m \u001b[1;32mif\u001b[0m \u001b[1;32mnot\u001b[0m \u001b[0mos\u001b[0m\u001b[1;33m.\u001b[0m\u001b[0mpath\u001b[0m\u001b[1;33m.\u001b[0m\u001b[0misdir\u001b[0m\u001b[1;33m(\u001b[0m\u001b[0mLOGS_FOLDER\u001b[0m\u001b[1;33m)\u001b[0m\u001b[1;33m:\u001b[0m\u001b[1;33m\u001b[0m\u001b[1;33m\u001b[0m\u001b[0m\n\u001b[0;32m      4\u001b[0m     \u001b[0mos\u001b[0m\u001b[1;33m.\u001b[0m\u001b[0mmakedirs\u001b[0m\u001b[1;33m(\u001b[0m\u001b[0mLOGS_FOLDER\u001b[0m\u001b[1;33m)\u001b[0m\u001b[1;33m\u001b[0m\u001b[1;33m\u001b[0m\u001b[0m\n\u001b[0;32m      5\u001b[0m \u001b[1;33m\u001b[0m\u001b[0m\n",
      "\u001b[1;31mNameError\u001b[0m: name 'os' is not defined"
     ]
    }
   ],
   "source": [
    "DATA_FOLDER = 'C:\\data\\S1_test'\n",
    "LOGS_FOLDER = os.path.join(DATA_FOLDER, 'logs')\n",
    "if not os.path.isdir(LOGS_FOLDER):\n",
    "    os.makedirs(LOGS_FOLDER)\n",
    "    \n",
    "#custom_script = 'return [B02, B03, B04, B08, B11, B12];'\n",
    "custom_script = 'return [B02, B03, B04, B05, B06, B07, B08A, B08, B11, B12];'\n",
    "add_data = S2L1CWCSInput(\n",
    "    layer='BANDS-S2-L1C', \n",
    "    feature=(FeatureType.DATA, 'BANDS'), # save under name 'BANDS'\n",
    "    custom_url_params={CustomUrlParam.EVALSCRIPT: custom_script}, # custom url for 6 specific bands\n",
    "    resx='10m', # resolution x\n",
    "    resy='10m', # resolution y\n",
    "    maxcc=0.8, # maximum allowed cloud cover of original ESA tiles\n",
    ")\n",
    "\n",
    "# TASK FOR SAVING TO OUTPUT (if needed)\n",
    "path_out = os.path.join(DATA_FOLDER, 'eopatches')\n",
    "if not os.path.isdir(path_out):\n",
    "    os.makedirs(path_out)\n",
    "save = SaveToDisk(path_out, overwrite_permission=OverwritePermission.OVERWRITE_PATCH)\n",
    "\n",
    "\n",
    "# Define the workflow\n",
    "workflow = LinearWorkflow(\n",
    "    add_data,\n",
    "    save\n",
    ")\n",
    "\n",
    "# Let's visualize it\n",
    "workflow.dependency_graph()"
   ]
  },
  {
   "cell_type": "code",
   "execution_count": 8,
   "metadata": {},
   "outputs": [],
   "source": [
    "area = gpd.read_file(os.path.join(DATA_FOLDER, 'Drummond.geojson'))\n",
    "# Convert CRS to UTM_18N\n",
    "area_crs = CRS.UTM_18N\n",
    "area = area.to_crs(crs={'init': CRS.ogc_string(area_crs)})\n",
    "# Get the area shape in polygon format\n",
    "area_shape = area.geometry.values.tolist()[-1]\n",
    "\n",
    "bbox_splitter = BBoxSplitter([area_shape], area_crs, (7, 5))\n",
    "bbox_list = np.array(bbox_splitter.get_bbox_list())\n",
    "info_list = np.array(bbox_splitter.get_info_list())\n",
    "\n",
    "# Prepare info of selected EOPatches\n",
    "#geometry = [Polygon(bbox.get_polygon()) for bbox in bbox_list]\n",
    "\n",
    "geometry = bbox_list[0].geometry"
   ]
  },
  {
   "cell_type": "code",
   "execution_count": 9,
   "metadata": {},
   "outputs": [
    {
     "data": {
      "application/vnd.jupyter.widget-view+json": {
       "model_id": "2410d10ce321417a9b56d06a0c07fc1f",
       "version_major": 2,
       "version_minor": 0
      },
      "text/plain": [
       "HBox(children=(IntProgress(value=0, max=1), HTML(value='')))"
      ]
     },
     "metadata": {},
     "output_type": "display_data"
    },
    {
     "name": "stdout",
     "output_type": "stream",
     "text": [
      "\n",
      "Wall time: 48.9 s\n"
     ]
    }
   ],
   "source": [
    "%%time\n",
    "\n",
    "# Execute the workflow\n",
    "time_interval = ['2017-01-01', '2017-12-31'] # time interval for the SH request\n",
    "\n",
    "# define additional parameters of the workflow\n",
    "execution_args = []\n",
    "# for idx, bbox in enumerate(bbox_list[patchIDs]):\n",
    "#     execution_args.append({\n",
    "#         add_data:{'bbox': bbox, 'time_interval': time_interval},\n",
    "#         save: {'eopatch_folder': 'eopatch_{}'.format(idx)}\n",
    "#     })\n",
    "idx = 0  # bbox to download \n",
    "execution_args = [{\n",
    "        add_data:{'bbox': bbox_list[idx], 'time_interval': time_interval},\n",
    "        save: {'eopatch_folder': 'eopatch_{}'.format(idx)},\n",
    "    }]\n",
    "executor = EOExecutor(workflow, execution_args, save_logs=True, logs_folder=LOGS_FOLDER)\n",
    "executor.run(workers=5, multiprocess=False)\n",
    "\n",
    "executor.make_report()"
   ]
  },
  {
   "cell_type": "code",
   "execution_count": 5,
   "metadata": {},
   "outputs": [
    {
     "data": {
      "image/svg+xml": [
       "<?xml version=\"1.0\" encoding=\"UTF-8\" standalone=\"no\"?>\r\n",
       "<!DOCTYPE svg PUBLIC \"-//W3C//DTD SVG 1.1//EN\"\r\n",
       " \"http://www.w3.org/Graphics/SVG/1.1/DTD/svg11.dtd\">\r\n",
       "<!-- Generated by graphviz version 2.38.0 (20140413.2041)\r\n",
       " -->\r\n",
       "<!-- Title: %3 Pages: 1 -->\r\n",
       "<svg width=\"296pt\" height=\"44pt\"\r\n",
       " viewBox=\"0.00 0.00 296.18 44.00\" xmlns=\"http://www.w3.org/2000/svg\" xmlns:xlink=\"http://www.w3.org/1999/xlink\">\r\n",
       "<g id=\"graph0\" class=\"graph\" transform=\"scale(1 1) rotate(0) translate(4 40)\">\r\n",
       "<title>%3</title>\r\n",
       "<polygon fill=\"white\" stroke=\"none\" points=\"-4,4 -4,-40 292.178,-40 292.178,4 -4,4\"/>\r\n",
       "<!-- LoadFromDisk -->\r\n",
       "<g id=\"node1\" class=\"node\"><title>LoadFromDisk</title>\r\n",
       "<ellipse fill=\"none\" stroke=\"black\" cx=\"66.2941\" cy=\"-18\" rx=\"66.0889\" ry=\"18\"/>\r\n",
       "<text text-anchor=\"middle\" x=\"66.2941\" y=\"-14.3\" font-family=\"Times New Roman,serif\" font-size=\"14.00\">LoadFromDisk</text>\r\n",
       "</g>\r\n",
       "<!-- ExportToTiff -->\r\n",
       "<g id=\"node2\" class=\"node\"><title>ExportToTiff</title>\r\n",
       "<ellipse fill=\"none\" stroke=\"black\" cx=\"228.383\" cy=\"-18\" rx=\"59.5901\" ry=\"18\"/>\r\n",
       "<text text-anchor=\"middle\" x=\"228.383\" y=\"-14.3\" font-family=\"Times New Roman,serif\" font-size=\"14.00\">ExportToTiff</text>\r\n",
       "</g>\r\n",
       "<!-- LoadFromDisk&#45;&gt;ExportToTiff -->\r\n",
       "<g id=\"edge1\" class=\"edge\"><title>LoadFromDisk&#45;&gt;ExportToTiff</title>\r\n",
       "<path fill=\"none\" stroke=\"black\" d=\"M132.87,-18C141.281,-18 149.911,-18 158.374,-18\"/>\r\n",
       "<polygon fill=\"black\" stroke=\"black\" points=\"158.588,-21.5001 168.588,-18 158.588,-14.5001 158.588,-21.5001\"/>\r\n",
       "</g>\r\n",
       "</g>\r\n",
       "</svg>\r\n"
      ],
      "text/plain": [
       "<graphviz.dot.Digraph at 0x22d20f9f8d0>"
      ]
     },
     "execution_count": 5,
     "metadata": {},
     "output_type": "execute_result"
    }
   ],
   "source": [
    "# TASK TO LOAD EXISTING EOPATCHES\n",
    "load = LoadFromDisk(path_out)\n",
    "\n",
    "# TASK FOR SAVING\n",
    "save = SaveToDisk(path_out, overwrite_permission=OverwritePermission.OVERWRITE_PATCH)\n",
    "\n",
    "# TASK TO EXPORT TIFF\n",
    "export_tiff = ExportToTiff((FeatureType.DATA, 'BANDS'), band_indices=(0,5), date_indices=[1])\n",
    "tiff_location = os.path.join(DATA_FOLDER, 'tiff')\n",
    "if not os.path.isdir(tiff_location):\n",
    "    os.makedirs(tiff_location)\n",
    "    \n",
    "    \n",
    "workflow2 = LinearWorkflow(\n",
    "    load,\n",
    "    export_tiff\n",
    ")\n",
    "workflow2.dependency_graph()"
   ]
  },
  {
   "cell_type": "code",
   "execution_count": 6,
   "metadata": {},
   "outputs": [
    {
     "data": {
      "application/vnd.jupyter.widget-view+json": {
       "model_id": "3575d99a669841058a973e112218114b",
       "version_major": 2,
       "version_minor": 0
      },
      "text/plain": [
       "HBox(children=(IntProgress(value=0, max=1), HTML(value='')))"
      ]
     },
     "metadata": {},
     "output_type": "display_data"
    },
    {
     "name": "stdout",
     "output_type": "stream",
     "text": [
      "\n"
     ]
    }
   ],
   "source": [
    "# create a list of execution arguments for each patch\n",
    "# execution_args = []\n",
    "# for i in range(len(patchIDs)):\n",
    "#     execution_args.append(\n",
    "#         {\n",
    "#             load: {'eopatch_folder': 'eopatch_{}'.format(i)},\n",
    "#             export_tiff: {'filename': '{}/prediction_eopatch_{}.tiff'.format(tiff_location, i)},\n",
    "#             save: {'eopatch_folder': 'eopatch_{}'.format(i)}\n",
    "#         }\n",
    "#     )\n",
    "execution_args = [{\n",
    "            load: {'eopatch_folder': 'eopatch_0'},\n",
    "            export_tiff: {'filename': '{}/eopatch.tiff'.format(tiff_location)}\n",
    "        }]\n",
    "# run the executor on 2 cores\n",
    "executor = EOExecutor(workflow2, execution_args)\n",
    "\n",
    "# uncomment below save the logs in the current directory and produce a report!\n",
    "#executor = EOExecutor(workflow, execution_args, save_logs=True)\n",
    "\n",
    "executor.run(workers=2, multiprocess=False)\n",
    "executor.make_report()"
   ]
  },
  {
   "cell_type": "code",
   "execution_count": 2,
   "metadata": {},
   "outputs": [
    {
     "name": "stdout",
     "output_type": "stream",
     "text": [
      "(23, 210, 526, 13)\n"
     ]
    }
   ],
   "source": [
    "import numpy as np\n",
    "# data_array1 = np.load('C:\\data\\S1_test\\eopatches\\eopatch_0\\data\\BANDS.npy')\n",
    "# data_array2 = np.load('C:\\data\\S1_test\\eopatches\\eopatch_0\\mask\\IS_DATA.npy')\n",
    "# data_array_scr = np.load('C:\\data\\crop\\eopatches_sampled\\eopatch_0\\data_timeless\\SCR_GBM.npy')\n",
    "# data_array_mask = np.load('C:\\data\\crop\\eopatches_sampled\\eopatch_0\\mask_timeless\\LULC.npy')\n",
    "eopatches_sampled = np.load('C:\\data\\predict\\eopatches_sampled\\eopatch_0\\data\\FEATURES.npy')\n",
    "#eopatches_sampled2 = np.load('C:\\data\\crop\\eopatches_sampled\\eopatch_4\\data\\FEATURES.npy')\n",
    "# eopatches_sampled3 = np.load('N:\\CropInventoryAutomation\\crop_large\\eopatches_sampled\\eopatch_1\\data\\FEATURES_SAMPLED.npy')\n",
    "#eopatches_sampled4 = np.load('N:\\CropInventoryAutomation\\crop_large\\eopatches\\eopatch_1\\data\\BANDS.npy')\n",
    "# print(type(data_array1))\n",
    "# print(data_array1.shape)\n",
    "# print(data_array2.shape)\n",
    "# print(data_array2)\n",
    "\n",
    "print(eopatches_sampled.shape)\n",
    "#print(eopatches_sampled2.shape)\n",
    "# print(eopatches_sampled3.shape)\n",
    "# print(eopatches_sampled4.shape)\n"
   ]
  },
  {
   "cell_type": "code",
   "execution_count": 11,
   "metadata": {},
   "outputs": [
    {
     "name": "stdout",
     "output_type": "stream",
     "text": [
      "200000\n",
      "<class 'float'>\n",
      "100000.0\n"
     ]
    }
   ],
   "source": [
    "print(int(2e5))\n",
    "print(type(2e5))\n",
    "print(1e5)"
   ]
  },
  {
   "cell_type": "code",
   "execution_count": 3,
   "metadata": {},
   "outputs": [
    {
     "ename": "ImportError",
     "evalue": "cannot import name 'EOPatchVisualization'",
     "output_type": "error",
     "traceback": [
      "\u001b[1;31m---------------------------------------------------------------------------\u001b[0m",
      "\u001b[1;31mImportError\u001b[0m                               Traceback (most recent call last)",
      "\u001b[1;32m<ipython-input-3-da9e2aa9d080>\u001b[0m in \u001b[0;36m<module>\u001b[1;34m\u001b[0m\n\u001b[1;32m----> 1\u001b[1;33m \u001b[1;32mfrom\u001b[0m \u001b[0meolearn\u001b[0m\u001b[1;33m.\u001b[0m\u001b[0mvisualization\u001b[0m \u001b[1;32mimport\u001b[0m \u001b[0mEOPatchVisualization\u001b[0m\u001b[1;33m\u001b[0m\u001b[1;33m\u001b[0m\u001b[0m\n\u001b[0m\u001b[0;32m      2\u001b[0m \u001b[1;33m\u001b[0m\u001b[0m\n\u001b[0;32m      3\u001b[0m \u001b[1;31m#fig = plt.figure(figsize=(20, 20))\u001b[0m\u001b[1;33m\u001b[0m\u001b[1;33m\u001b[0m\u001b[1;33m\u001b[0m\u001b[0m\n\u001b[0;32m      4\u001b[0m \u001b[1;33m\u001b[0m\u001b[0m\n\u001b[0;32m      5\u001b[0m \u001b[1;33m\u001b[0m\u001b[0m\n",
      "\u001b[1;31mImportError\u001b[0m: cannot import name 'EOPatchVisualization'"
     ]
    }
   ],
   "source": [
    "\n",
    "\n",
    "#fig = plt.figure(figsize=(20, 20))\n",
    "\n",
    "\n",
    "timeframe = 15\n",
    "# for i in range(49):\n",
    "#     eopatch = EOPatch.load('{}\\eopatch_{}'.format(path_out, i), lazy_loading=True)\n",
    "\n",
    "eopatch = EOPatch.load('C:\\data\\predict\\eopatches\\eopatch_3', lazy_loading=True)\n",
    "###ax = plt.subplot(7, 7, i + 1)\n",
    "# plt.imshow(np.clip(eopatch.data['BANDS'][timeframe][..., [2, 1, 0]] * 3.5, 0, 1))\n",
    "# plt.imshow(np.clip(eopatch.data['BANDS'][timeframe][..., [7,7,7]] * 3.5, 0, 1))\n",
    "# plt.xticks([])\n",
    "# plt.yticks([])\n",
    "\n",
    "# print(eopatch.timestamp[timeframe])\n",
    "# del eopatch\n",
    "\n",
    "# fig.subplots_adjust(wspace=0, hspace=0)\n",
    "\n",
    "print(eopatch)\n"
   ]
  },
  {
   "cell_type": "code",
   "execution_count": 7,
   "metadata": {},
   "outputs": [
    {
     "name": "stdout",
     "output_type": "stream",
     "text": [
      "[0, 1, 2, 3, 4, 5, 6, 7, 8, 9, 10, 11, 12, 13, 14, 15, 16, 17, 18, 19, 25, 26, 27, 28, 29, 30, 31, 32, 33, 34, 35, 36, 37, 38, 39, 40, 41, 42, 43, 44, 45, 46, 47, 48]\n"
     ]
    }
   ],
   "source": [
    "train_ID = list(range(0, 49))\n",
    "test_ID = [20, 21, 22, 23, 24]\n",
    "for i in test_ID:\n",
    "    train_ID.remove(i)\n",
    "print(train_ID)\n",
    "#test_ID = [x for x in range(49) if x not in train_ID] "
   ]
  }
 ],
 "metadata": {
  "kernelspec": {
   "display_name": "Python 3",
   "language": "python",
   "name": "python3"
  },
  "language_info": {
   "codemirror_mode": {
    "name": "ipython",
    "version": 3
   },
   "file_extension": ".py",
   "mimetype": "text/x-python",
   "name": "python",
   "nbconvert_exporter": "python",
   "pygments_lexer": "ipython3",
   "version": "3.7.3"
  }
 },
 "nbformat": 4,
 "nbformat_minor": 4
}
