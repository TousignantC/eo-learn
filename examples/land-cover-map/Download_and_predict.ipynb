{
 "cells": [
  {
   "cell_type": "code",
   "execution_count": 1,
   "metadata": {},
   "outputs": [
    {
     "name": "stderr",
     "output_type": "stream",
     "text": [
      "C:\\Users\\bruneautousignantc\\AppData\\Local\\Continuum\\anaconda3\\envs\\arcgispro\\lib\\site-packages\\sklearn\\externals\\joblib\\__init__.py:15: DeprecationWarning: sklearn.externals.joblib is deprecated in 0.21 and will be removed in 0.23. Please import this functionality directly from joblib, which can be installed with: pip install joblib. If this warning is raised when loading pickled models, you may need to re-serialize those models with scikit-learn 0.21+.\n",
      "  warnings.warn(msg, category=DeprecationWarning)\n"
     ]
    }
   ],
   "source": [
    "# Built-in modules\n",
    "import pickle\n",
    "import sys\n",
    "import os\n",
    "import datetime\n",
    "import itertools\n",
    "from enum import Enum\n",
    "\n",
    "# Machine learning \n",
    "import lightgbm as lgb\n",
    "import joblib\n",
    "\n",
    "# Basics of Python data handling and visualization\n",
    "import numpy as np\n",
    "import geopandas as gpd\n",
    "import matplotlib as mpl\n",
    "import matplotlib.pyplot as plt\n",
    "import matplotlib.gridspec as gridspec\n",
    "from mpl_toolkits.axes_grid1 import make_axes_locatable\n",
    "from shapely.geometry import Polygon\n",
    "from tqdm import tqdm_notebook as tqdm\n",
    "\n",
    "#from sklearn.externals import joblib\n",
    "# from sklearn import metrics\n",
    "#from sklearn import preprocessing\n",
    "\n",
    "# Imports from eo-learn and sentinelhub-py\n",
    "from eolearn.core import EOTask, EOPatch, LinearWorkflow, FeatureType, OverwritePermission, \\\n",
    "     LoadFromDisk, SaveToDisk, EOExecutor\n",
    "from eolearn.io import S2L1CWCSInput, ExportToTiff\n",
    "from eolearn.mask import AddCloudMaskTask, get_s2_pixel_cloud_detector, AddValidDataMaskTask\n",
    "from eolearn.geometry import VectorToRaster, PointSamplingTask, ErosionTask\n",
    "from eolearn.features import LinearInterpolation, SimpleFilterTask, ValueFilloutTask\n",
    "from sentinelhub import BBoxSplitter, BBox, CRS, CustomUrlParam"
   ]
  },
  {
   "cell_type": "code",
   "execution_count": 2,
   "metadata": {},
   "outputs": [],
   "source": [
    "# Set paths\n",
    "DATA_FOLDER = 'C:\\data\\predict'\n",
    "\n",
    "LOGS_FOLDER = os.path.join(DATA_FOLDER, 'logs')\n",
    "if not os.path.isdir(LOGS_FOLDER):\n",
    "    os.makedirs(LOGS_FOLDER)\n",
    "    \n",
    "path_out = os.path.join(DATA_FOLDER, 'eopatches')\n",
    "if not os.path.isdir(path_out):\n",
    "    os.makedirs(path_out)\n",
    "    \n",
    "path_out_sampled = os.path.join(DATA_FOLDER, 'eopatches_sampled')\n",
    "if not os.path.isdir(path_out_sampled):\n",
    "    os.makedirs(path_out_sampled)\n",
    "    \n",
    "tiff_location = os.path.join(DATA_FOLDER, 'predicted_tiff2')\n",
    "if not os.path.isdir(tiff_location):\n",
    "    os.makedirs(tiff_location)\n",
    "    \n",
    "model_base_name = 'model_200it_7bag_500bin'\n",
    "model_path = os.path.join(DATA_FOLDER, 'model', '{}.pkl'.format(model_base_name))"
   ]
  },
  {
   "cell_type": "code",
   "execution_count": 3,
   "metadata": {},
   "outputs": [],
   "source": [
    "class LULC(Enum):\n",
    "    NO_DATA            = (0,  'No Data',                    'white')\n",
    "    HAY                = (1,  'Hay',                        '#0cff0c')  # xkcd:neon green\n",
    "    CORN               = (2,  'Corn',                       '#fe019a')  # xkcd:neon pink\n",
    "    SOY                = (3,  'Soy',                        '#cfff04')  # xkcd:neon yellow\n",
    "    VARIOUS_CROPS      = (4,  'Various crops',              '#fa5ff7')  # xkcd:light magenta\n",
    "    ARTIFICIAL_SURFACE = (5,  'Human-modified environment', 'crimson')\n",
    "    SHRUBLAND          = (6,  'Old field / Shrubland',      'xkcd:tan')\n",
    "    FOREST             = (7,  'Forest environment',         'xkcd:darkgreen')\n",
    "    WETLAND            = (8,  'Wetland',                    'xkcd:lightblue')\n",
    "    WATER              = (9,  'Open water',                 'xkcd:azure')\n",
    "    BARELAND           = (10, 'Bare ground',                'xkcd:beige')\n",
    "    \n",
    "    def __init__(self, val1, val2, val3):\n",
    "        self.id = val1\n",
    "        self.class_name = val2\n",
    "        self.color = val3\n",
    "        \n",
    "# example usecase\n",
    "# LULC.HAY.id   # return 1\n",
    "        \n",
    "# Reference colormap things\n",
    "nb_class = 11\n",
    "lulc_cmap = mpl.colors.ListedColormap([entry.color for entry in LULC])\n",
    "lulc_norm = mpl.colors.BoundaryNorm(np.arange(-0.5, nb_class, 1), lulc_cmap.N)"
   ]
  },
  {
   "cell_type": "markdown",
   "metadata": {},
   "source": [
    "# Get data"
   ]
  },
  {
   "cell_type": "code",
   "execution_count": 22,
   "metadata": {},
   "outputs": [],
   "source": [
    "class SentinelHubValidData:\n",
    "    \"\"\"\n",
    "    Combine Sen2Cor's classification map with `IS_DATA` to define a `VALID_DATA_SH` mask\n",
    "    The SentinelHub's cloud mask is assumed to be found in eopatch.mask['CLM']\n",
    "    \"\"\"\n",
    "    def __call__(self, eopatch):        \n",
    "        return np.logical_and(eopatch.mask['IS_DATA'].astype(np.bool), \n",
    "                              np.logical_not(eopatch.mask['CLM'].astype(np.bool)))\n",
    "    \n",
    "class CountValid(EOTask):   \n",
    "    \"\"\"\n",
    "    The task counts number of valid observations in time-series and stores the results in the timeless mask.\n",
    "    \"\"\"\n",
    "    def __init__(self, count_what, feature_name):\n",
    "        self.what = count_what\n",
    "        self.name = feature_name\n",
    "        \n",
    "    def execute(self, eopatch):\n",
    "        eopatch.add_feature(FeatureType.MASK_TIMELESS, self.name, np.count_nonzero(eopatch.mask[self.what],axis=0))\n",
    "        \n",
    "        return eopatch\n",
    "\n",
    "\n",
    "class NormalizedDifferenceIndex(EOTask):   \n",
    "    \"\"\"\n",
    "    The tasks calculates user defined Normalised Difference Index (NDI) between two bands A and B as:\n",
    "    NDI = (A-B)/(A+B).\n",
    "    \"\"\"\n",
    "    def __init__(self, feature_name, band_a, band_b):\n",
    "        self.feature_name = feature_name\n",
    "        self.band_a_feature_name = band_a.split('/')[0]\n",
    "        self.band_b_feature_name = band_b.split('/')[0]\n",
    "        self.band_a_feature_idx = int(band_a.split('/')[-1])\n",
    "        self.band_b_feature_idx = int(band_b.split('/')[-1])\n",
    "        \n",
    "    def execute(self, eopatch):\n",
    "        band_a = eopatch.data[self.band_a_feature_name][..., self.band_a_feature_idx]\n",
    "        band_b = eopatch.data[self.band_b_feature_name][..., self.band_b_feature_idx]\n",
    "        \n",
    "        ndi = (band_a - band_b) / (band_a  + band_b)\n",
    "        \n",
    "        eopatch.add_feature(FeatureType.DATA, self.feature_name, ndi[..., np.newaxis])\n",
    "        \n",
    "        return eopatch\n",
    "\n",
    "    \n",
    "class EuclideanNorm(EOTask):   \n",
    "    \"\"\"\n",
    "    The tasks calculates Euclidian Norm of all bands within an array:\n",
    "    norm = sqrt(sum_i Bi**2),\n",
    "    where Bi are the individual bands within user-specified feature array.\n",
    "    \"\"\"\n",
    "    def __init__(self, feature_name, in_feature_name):\n",
    "        self.feature_name = feature_name\n",
    "        self.in_feature_name = in_feature_name\n",
    "    \n",
    "    def execute(self, eopatch):\n",
    "        arr = eopatch.data[self.in_feature_name]\n",
    "        norm = np.sqrt(np.sum(arr**2, axis=-1))\n",
    "        \n",
    "        eopatch.add_feature(FeatureType.DATA, self.feature_name, norm[..., np.newaxis])\n",
    "        return eopatch"
   ]
  },
  {
   "cell_type": "code",
   "execution_count": 23,
   "metadata": {},
   "outputs": [],
   "source": [
    "# TASK FOR BAND DATA\n",
    "# add a request for B(B02), G(B03), R(B04), NIR (B08), SWIR1(B11), SWIR2(B12) \n",
    "# from default layer 'ALL_BANDS' at 10m resolution\n",
    "# Here we also do a simple filter of cloudy scenes. A detailed cloud cover \n",
    "# detection is performed in the next step\n",
    "custom_script = 'return [B02, B03, B04, B05, B06, B07, B8A, B08, B11, B12];'\n",
    "add_data = S2L1CWCSInput(\n",
    "    layer='BANDS-S2-L1C', \n",
    "    feature=(FeatureType.DATA, 'BANDS'), # save under name 'BANDS'\n",
    "    custom_url_params={CustomUrlParam.EVALSCRIPT: custom_script}, # custom url for 10 specific bands\n",
    "    resx='10m', # resolution x\n",
    "    resy='10m', # resolution y\n",
    "    maxcc=0.8, # maximum allowed cloud cover of original ESA tiles\n",
    ")\n",
    "\n",
    "# TASK FOR CLOUD INFO\n",
    "# cloud detection is performed at 80m resolution \n",
    "# and the resulting cloud probability map and mask \n",
    "# are scaled to EOPatch's resolution\n",
    "cloud_classifier = get_s2_pixel_cloud_detector(average_over=2, dilation_size=1, all_bands=False)\n",
    "add_clm = AddCloudMaskTask(cloud_classifier, 'BANDS-S2CLOUDLESS', cm_size_y='80m', cm_size_x='80m', \n",
    "                           cmask_feature='CLM', # cloud mask name\n",
    "                           cprobs_feature='CLP' # cloud prob. map name\n",
    "                          )\n",
    "\n",
    "# TASKS FOR CALCULATING NEW FEATURES\n",
    "# NDVI: (B08 - B04)/(B08 + B04)\n",
    "# NDWI: (B03 - B08)/(B03 + B08)\n",
    "# NORM: sqrt(B02^2 + B03^2 + B04^2 + B08^2 + B11^2 + B12^2)\n",
    "ndvi = NormalizedDifferenceIndex('NDVI', 'BANDS/3', 'BANDS/2')\n",
    "# https://en.wikipedia.org/wiki/Normalized_difference_water_index\n",
    "ndwi = NormalizedDifferenceIndex('NDWI', 'BANDS/1', 'BANDS/3')  # monitor changes related to water content in water bodies\n",
    "#ndwi = NormalizedDifferenceIndex('NDWI', 'BANDS/3', 'BANDS/4')  # monitor changes in water content of leaves  \n",
    "norm = EuclideanNorm('NORM','BANDS')\n",
    "\n",
    "# TASK FOR VALID MASK\n",
    "# validate pixels using SentinelHub's cloud detection mask and region of acquisition \n",
    "add_sh_valmask = AddValidDataMaskTask(SentinelHubValidData(), \n",
    "                                      'IS_VALID' # name of output mask\n",
    "                                     )\n",
    "\n",
    "# TASK FOR COUNTING VALID PIXELS\n",
    "# count number of valid observations per pixel using valid data mask \n",
    "count_val_sh = CountValid('IS_VALID', # name of existing mask\n",
    "                          'VALID_COUNT' # name of output scalar\n",
    "                         )\n",
    "\n",
    "# TASK FOR SAVING TO OUTPUT (if needed)\n",
    "save = SaveToDisk(path_out, overwrite_permission=OverwritePermission.OVERWRITE_PATCH)"
   ]
  },
  {
   "cell_type": "code",
   "execution_count": 24,
   "metadata": {},
   "outputs": [
    {
     "data": {
      "image/svg+xml": [
       "<?xml version=\"1.0\" encoding=\"UTF-8\" standalone=\"no\"?>\r\n",
       "<!DOCTYPE svg PUBLIC \"-//W3C//DTD SVG 1.1//EN\"\r\n",
       " \"http://www.w3.org/Graphics/SVG/1.1/DTD/svg11.dtd\">\r\n",
       "<!-- Generated by graphviz version 2.38.0 (20140413.2041)\r\n",
       " -->\r\n",
       "<!-- Title: %3 Pages: 1 -->\r\n",
       "<svg width=\"1595pt\" height=\"44pt\"\r\n",
       " viewBox=\"0.00 0.00 1594.98 44.00\" xmlns=\"http://www.w3.org/2000/svg\" xmlns:xlink=\"http://www.w3.org/1999/xlink\">\r\n",
       "<g id=\"graph0\" class=\"graph\" transform=\"scale(1 1) rotate(0) translate(4 40)\">\r\n",
       "<title>%3</title>\r\n",
       "<polygon fill=\"white\" stroke=\"none\" points=\"-4,4 -4,-40 1590.98,-40 1590.98,4 -4,4\"/>\r\n",
       "<!-- S2L1CWCSInput -->\r\n",
       "<g id=\"node1\" class=\"node\"><title>S2L1CWCSInput</title>\r\n",
       "<ellipse fill=\"none\" stroke=\"black\" cx=\"76.0433\" cy=\"-18\" rx=\"76.0865\" ry=\"18\"/>\r\n",
       "<text text-anchor=\"middle\" x=\"76.0433\" y=\"-14.3\" font-family=\"Times New Roman,serif\" font-size=\"14.00\">S2L1CWCSInput</text>\r\n",
       "</g>\r\n",
       "<!-- AddCloudMaskTask -->\r\n",
       "<g id=\"node2\" class=\"node\"><title>AddCloudMaskTask</title>\r\n",
       "<ellipse fill=\"none\" stroke=\"black\" cx=\"275.179\" cy=\"-18\" rx=\"87.1846\" ry=\"18\"/>\r\n",
       "<text text-anchor=\"middle\" x=\"275.179\" y=\"-14.3\" font-family=\"Times New Roman,serif\" font-size=\"14.00\">AddCloudMaskTask</text>\r\n",
       "</g>\r\n",
       "<!-- S2L1CWCSInput&#45;&gt;AddCloudMaskTask -->\r\n",
       "<g id=\"edge1\" class=\"edge\"><title>S2L1CWCSInput&#45;&gt;AddCloudMaskTask</title>\r\n",
       "<path fill=\"none\" stroke=\"black\" d=\"M152.134,-18C160.58,-18 169.271,-18 177.938,-18\"/>\r\n",
       "<polygon fill=\"black\" stroke=\"black\" points=\"178.084,-21.5001 188.084,-18 178.084,-14.5001 178.084,-21.5001\"/>\r\n",
       "</g>\r\n",
       "<!-- NormalizedDifferenceIndex0 -->\r\n",
       "<g id=\"node3\" class=\"node\"><title>NormalizedDifferenceIndex0</title>\r\n",
       "<ellipse fill=\"none\" stroke=\"black\" cx=\"512.661\" cy=\"-18\" rx=\"114.28\" ry=\"18\"/>\r\n",
       "<text text-anchor=\"middle\" x=\"512.661\" y=\"-14.3\" font-family=\"Times New Roman,serif\" font-size=\"14.00\">NormalizedDifferenceIndex0</text>\r\n",
       "</g>\r\n",
       "<!-- AddCloudMaskTask&#45;&gt;NormalizedDifferenceIndex0 -->\r\n",
       "<g id=\"edge2\" class=\"edge\"><title>AddCloudMaskTask&#45;&gt;NormalizedDifferenceIndex0</title>\r\n",
       "<path fill=\"none\" stroke=\"black\" d=\"M362.526,-18C370.829,-18 379.356,-18 387.925,-18\"/>\r\n",
       "<polygon fill=\"black\" stroke=\"black\" points=\"387.994,-21.5001 397.994,-18 387.994,-14.5001 387.994,-21.5001\"/>\r\n",
       "</g>\r\n",
       "<!-- NormalizedDifferenceIndex1 -->\r\n",
       "<g id=\"node4\" class=\"node\"><title>NormalizedDifferenceIndex1</title>\r\n",
       "<ellipse fill=\"none\" stroke=\"black\" cx=\"777.441\" cy=\"-18\" rx=\"114.28\" ry=\"18\"/>\r\n",
       "<text text-anchor=\"middle\" x=\"777.441\" y=\"-14.3\" font-family=\"Times New Roman,serif\" font-size=\"14.00\">NormalizedDifferenceIndex1</text>\r\n",
       "</g>\r\n",
       "<!-- NormalizedDifferenceIndex0&#45;&gt;NormalizedDifferenceIndex1 -->\r\n",
       "<g id=\"edge3\" class=\"edge\"><title>NormalizedDifferenceIndex0&#45;&gt;NormalizedDifferenceIndex1</title>\r\n",
       "<path fill=\"none\" stroke=\"black\" d=\"M627.392,-18C635.774,-18 644.254,-18 652.691,-18\"/>\r\n",
       "<polygon fill=\"black\" stroke=\"black\" points=\"652.953,-21.5001 662.953,-18 652.953,-14.5001 652.953,-21.5001\"/>\r\n",
       "</g>\r\n",
       "<!-- EuclideanNorm -->\r\n",
       "<g id=\"node5\" class=\"node\"><title>EuclideanNorm</title>\r\n",
       "<ellipse fill=\"none\" stroke=\"black\" cx=\"994.775\" cy=\"-18\" rx=\"66.8882\" ry=\"18\"/>\r\n",
       "<text text-anchor=\"middle\" x=\"994.775\" y=\"-14.3\" font-family=\"Times New Roman,serif\" font-size=\"14.00\">EuclideanNorm</text>\r\n",
       "</g>\r\n",
       "<!-- NormalizedDifferenceIndex1&#45;&gt;EuclideanNorm -->\r\n",
       "<g id=\"edge4\" class=\"edge\"><title>NormalizedDifferenceIndex1&#45;&gt;EuclideanNorm</title>\r\n",
       "<path fill=\"none\" stroke=\"black\" d=\"M892.098,-18C900.628,-18 909.109,-18 917.324,-18\"/>\r\n",
       "<polygon fill=\"black\" stroke=\"black\" points=\"917.571,-21.5001 927.571,-18 917.571,-14.5001 917.571,-21.5001\"/>\r\n",
       "</g>\r\n",
       "<!-- AddValidDataMaskTask -->\r\n",
       "<g id=\"node6\" class=\"node\"><title>AddValidDataMaskTask</title>\r\n",
       "<ellipse fill=\"none\" stroke=\"black\" cx=\"1198.46\" cy=\"-18\" rx=\"100.983\" ry=\"18\"/>\r\n",
       "<text text-anchor=\"middle\" x=\"1198.46\" y=\"-14.3\" font-family=\"Times New Roman,serif\" font-size=\"14.00\">AddValidDataMaskTask</text>\r\n",
       "</g>\r\n",
       "<!-- EuclideanNorm&#45;&gt;AddValidDataMaskTask -->\r\n",
       "<g id=\"edge5\" class=\"edge\"><title>EuclideanNorm&#45;&gt;AddValidDataMaskTask</title>\r\n",
       "<path fill=\"none\" stroke=\"black\" d=\"M1061.81,-18C1070.07,-18 1078.68,-18 1087.39,-18\"/>\r\n",
       "<polygon fill=\"black\" stroke=\"black\" points=\"1087.63,-21.5001 1097.63,-18 1087.63,-14.5001 1087.63,-21.5001\"/>\r\n",
       "</g>\r\n",
       "<!-- CountValid -->\r\n",
       "<g id=\"node7\" class=\"node\"><title>CountValid</title>\r\n",
       "<ellipse fill=\"none\" stroke=\"black\" cx=\"1387.2\" cy=\"-18\" rx=\"51.9908\" ry=\"18\"/>\r\n",
       "<text text-anchor=\"middle\" x=\"1387.2\" y=\"-14.3\" font-family=\"Times New Roman,serif\" font-size=\"14.00\">CountValid</text>\r\n",
       "</g>\r\n",
       "<!-- AddValidDataMaskTask&#45;&gt;CountValid -->\r\n",
       "<g id=\"edge6\" class=\"edge\"><title>AddValidDataMaskTask&#45;&gt;CountValid</title>\r\n",
       "<path fill=\"none\" stroke=\"black\" d=\"M1299.39,-18C1308.05,-18 1316.63,-18 1324.84,-18\"/>\r\n",
       "<polygon fill=\"black\" stroke=\"black\" points=\"1325.01,-21.5001 1335.01,-18 1325.01,-14.5001 1325.01,-21.5001\"/>\r\n",
       "</g>\r\n",
       "<!-- SaveToDisk -->\r\n",
       "<g id=\"node8\" class=\"node\"><title>SaveToDisk</title>\r\n",
       "<ellipse fill=\"none\" stroke=\"black\" cx=\"1531.09\" cy=\"-18\" rx=\"55.7903\" ry=\"18\"/>\r\n",
       "<text text-anchor=\"middle\" x=\"1531.09\" y=\"-14.3\" font-family=\"Times New Roman,serif\" font-size=\"14.00\">SaveToDisk</text>\r\n",
       "</g>\r\n",
       "<!-- CountValid&#45;&gt;SaveToDisk -->\r\n",
       "<g id=\"edge7\" class=\"edge\"><title>CountValid&#45;&gt;SaveToDisk</title>\r\n",
       "<path fill=\"none\" stroke=\"black\" d=\"M1439.42,-18C1447.75,-18 1456.48,-18 1465.08,-18\"/>\r\n",
       "<polygon fill=\"black\" stroke=\"black\" points=\"1465.1,-21.5001 1475.1,-18 1465.1,-14.5001 1465.1,-21.5001\"/>\r\n",
       "</g>\r\n",
       "</g>\r\n",
       "</svg>\r\n"
      ],
      "text/plain": [
       "<graphviz.dot.Digraph at 0x2631acfbb00>"
      ]
     },
     "execution_count": 24,
     "metadata": {},
     "output_type": "execute_result"
    }
   ],
   "source": [
    "# Define the workflow\n",
    "workflow = LinearWorkflow(\n",
    "    add_data,\n",
    "    add_clm,\n",
    "    ndvi,\n",
    "    ndwi,\n",
    "    norm,\n",
    "    add_sh_valmask,\n",
    "    count_val_sh,\n",
    "    save\n",
    ")\n",
    "\n",
    "# Let's visualize it\n",
    "workflow.dependency_graph()"
   ]
  },
  {
   "cell_type": "code",
   "execution_count": 25,
   "metadata": {},
   "outputs": [
    {
     "data": {
      "application/vnd.jupyter.widget-view+json": {
       "model_id": "e3d76347dd314ed8a5e00891907eb229",
       "version_major": 2,
       "version_minor": 0
      },
      "text/plain": [
       "HBox(children=(IntProgress(value=0, max=1), HTML(value='')))"
      ]
     },
     "metadata": {},
     "output_type": "display_data"
    },
    {
     "name": "stderr",
     "output_type": "stream",
     "text": [
      "C:\\Users\\bruneautousignantc\\AppData\\Local\\Continuum\\anaconda3\\envs\\arcgispro\\lib\\site-packages\\ipykernel_launcher.py:40: RuntimeWarning: invalid value encountered in true_divide\n"
     ]
    },
    {
     "name": "stdout",
     "output_type": "stream",
     "text": [
      "\n",
      "Wall time: 1min 7s\n"
     ]
    }
   ],
   "source": [
    "%%time\n",
    "\n",
    "# Execute the workflow\n",
    "\n",
    "time_interval = ['2018-01-01', '2018-12-31']\n",
    "\n",
    "#bbox = BBox(bbox=[-80.565, 42.576, -80.493, 42.594], crs=CRS.WGS84)\n",
    "#bbox = BBox(bbox=[583649, 4777412, 593587, 4780648], crs=CRS.UTM_17N)  # zone 1\n",
    "bbox = BBox(bbox=[568825, 4798822, 579674, 4802434], crs=CRS.UTM_17N)  #zone 2\n",
    "\n",
    "# define additional parameters of the workflow\n",
    "execution_args = []\n",
    "\n",
    "execution_args.append({add_data:{'bbox': bbox, 'time_interval': time_interval}, save: {'eopatch_folder': 'eopatch_1'}})\n",
    "\n",
    "# execution_args.append({add_data:{'bbox': bbox_list[16], 'time_interval': time_interval}, save: {'eopatch_folder': 'eopatch_{}'.format(0)}})\n",
    "# for idx, bbox in enumerate(bbox_list[patchIDs[25:26]]):\n",
    "#     execution_args.append({add_data:{'bbox': bbox, 'time_interval': time_interval},\n",
    "#                            save: {'eopatch_folder': 'eopatch_{}'.format(idx+25)}})\n",
    "    \n",
    "executor = EOExecutor(workflow, execution_args, save_logs=True, logs_folder=LOGS_FOLDER)\n",
    "executor.run(workers=1, multiprocess=False)  # just 1 worker so we don't exceed per minute limit\n",
    "\n",
    "executor.make_report()"
   ]
  },
  {
   "cell_type": "code",
   "execution_count": 8,
   "metadata": {},
   "outputs": [
    {
     "name": "stdout",
     "output_type": "stream",
     "text": [
      "2018-03-13 16:17:02\n"
     ]
    },
    {
     "ename": "NameError",
     "evalue": "name 'fig' is not defined",
     "output_type": "error",
     "traceback": [
      "\u001b[1;31m---------------------------------------------------------------------------\u001b[0m",
      "\u001b[1;31mNameError\u001b[0m                                 Traceback (most recent call last)",
      "\u001b[1;32m<ipython-input-8-c1fde7b66829>\u001b[0m in \u001b[0;36m<module>\u001b[1;34m\u001b[0m\n\u001b[0;32m      9\u001b[0m \u001b[0mprint\u001b[0m\u001b[1;33m(\u001b[0m\u001b[0meopatch\u001b[0m\u001b[1;33m.\u001b[0m\u001b[0mtimestamp\u001b[0m\u001b[1;33m[\u001b[0m\u001b[0mtimeframe\u001b[0m\u001b[1;33m]\u001b[0m\u001b[1;33m)\u001b[0m\u001b[1;33m\u001b[0m\u001b[1;33m\u001b[0m\u001b[0m\n\u001b[0;32m     10\u001b[0m \u001b[1;32mdel\u001b[0m \u001b[0meopatch\u001b[0m\u001b[1;33m\u001b[0m\u001b[1;33m\u001b[0m\u001b[0m\n\u001b[1;32m---> 11\u001b[1;33m \u001b[0mfig\u001b[0m\u001b[1;33m.\u001b[0m\u001b[0msubplots_adjust\u001b[0m\u001b[1;33m(\u001b[0m\u001b[0mwspace\u001b[0m\u001b[1;33m=\u001b[0m\u001b[1;36m0\u001b[0m\u001b[1;33m,\u001b[0m \u001b[0mhspace\u001b[0m\u001b[1;33m=\u001b[0m\u001b[1;36m0\u001b[0m\u001b[1;33m)\u001b[0m\u001b[1;33m\u001b[0m\u001b[1;33m\u001b[0m\u001b[0m\n\u001b[0m",
      "\u001b[1;31mNameError\u001b[0m: name 'fig' is not defined"
     ]
    }
   ],
   "source": [
    "# # Visualize\n",
    "# timeframe = 5\n",
    "\n",
    "# #fig = plt.figure(figsize=(20, 20))\n",
    "# eopatch = EOPatch.load('{}\\eopatch_0'.format(path_out), lazy_loading=True)\n",
    "# plt.imshow(np.clip(eopatch.data['BANDS'][timeframe][..., [2, 1, 0]] * 3.5, 0, 1))\n",
    "# plt.xticks([])\n",
    "# plt.yticks([])\n",
    "# print(eopatch.timestamp[timeframe])\n",
    "# del eopatch\n",
    "# fig.subplots_adjust(wspace=0, hspace=0)"
   ]
  },
  {
   "cell_type": "markdown",
   "metadata": {},
   "source": [
    "# Prepare data"
   ]
  },
  {
   "cell_type": "code",
   "execution_count": 26,
   "metadata": {},
   "outputs": [],
   "source": [
    "class ConcatenateData(EOTask):\n",
    "    \"\"\" Task to concatenate data arrays along the last dimension\n",
    "    \"\"\"\n",
    "    def __init__(self, feature_name, feature_names_to_concatenate):\n",
    "        self.feature_name = feature_name\n",
    "        self.feature_names_to_concatenate = feature_names_to_concatenate\n",
    "\n",
    "    def execute(self, eopatch):\n",
    "        arrays = [eopatch.data[name] for name in self.feature_names_to_concatenate]\n",
    "\n",
    "        eopatch.add_feature(FeatureType.DATA, self.feature_name, np.concatenate(arrays, axis=-1))\n",
    "\n",
    "        return eopatch\n",
    "    \n",
    "    \n",
    "class ValidDataFractionPredicate:\n",
    "    \"\"\" Predicate that defines if a frame from EOPatch's time-series is valid or not. Frame is valid, if the \n",
    "    valid data fraction is above the specified threshold.\n",
    "    \"\"\"\n",
    "    def __init__(self, threshold):\n",
    "        self.threshold = threshold\n",
    "        \n",
    "    def __call__(self, array):\n",
    "        coverage = np.sum(array.astype(np.uint8)) / np.prod(array.shape)\n",
    "        return coverage > self.threshold"
   ]
  },
  {
   "cell_type": "code",
   "execution_count": 27,
   "metadata": {},
   "outputs": [],
   "source": [
    "# TASK TO LOAD EXISTING EOPATCHES\n",
    "load = LoadFromDisk(path_out)\n",
    "\n",
    "# TASK FOR CONCATENATION\n",
    "concatenate = ConcatenateData('FEATURES', ['BANDS', 'NDVI', 'NDWI', 'NORM'])\n",
    "\n",
    "# TASK FOR FILTERING OUT TOO CLOUDY SCENES\n",
    "# keep frames with > 80 % valid coverage\n",
    "valid_data_predicate = ValidDataFractionPredicate(0.8)\n",
    "filter_task = SimpleFilterTask((FeatureType.MASK, 'IS_VALID'), valid_data_predicate)\n",
    "\n",
    "# TASK FOR LINEAR INTERPOLATION\n",
    "# linear interpolation of full time-series and date resampling\n",
    "resampled_range = ('2018-01-01', '2018-12-31', 16)\n",
    "#resampled_range = ('2017-03-01', '2017-10-31', 16)  # (start_date, end_date, step_days)\n",
    "linear_interp = LinearInterpolation(\n",
    "    'FEATURES', # name of field to interpolate\n",
    "    mask_feature=(FeatureType.MASK, 'IS_VALID'), # mask to be used in interpolation\n",
    "    #copy_features=[(FeatureType.MASK_TIMELESS, 'LULC')], # features to keep\n",
    "    resample_range=resampled_range, # set the resampling range\n",
    "    bounds_error=False # extrapolate with NaN's\n",
    ")\n",
    "\n",
    "# TASK FOR EROSION\n",
    "# erode each class of the reference map\n",
    "#erosion = ErosionTask(mask_feature=(FeatureType.MASK_TIMELESS,'LULC','LULC_ERODED'), disk_radius=1)\n",
    "\n",
    "# TASK FOR SPATIAL SAMPLING\n",
    "# Uniformly sample about pixels from patches\n",
    "#nb_class = 11\n",
    "#n_samples = int(4e4) # no. of pixels to sample\n",
    "# n_samples = int(4e4) # no. of pixels to sample\n",
    "# ref_labels = list(range(nb_class)) # reference labels to take into account when sampling\n",
    "# spatial_sampling = PointSamplingTask(\n",
    "#     n_samples=n_samples, \n",
    "#     ref_mask_feature='LULC_ERODED', \n",
    "#     ref_labels=ref_labels, \n",
    "#     sample_features=[  # tag fields to sample\n",
    "#         (FeatureType.DATA, 'FEATURES'),\n",
    "#         (FeatureType.MASK_TIMELESS, 'LULC_ERODED')\n",
    "#     ])\n",
    "\n",
    "\n",
    "save = SaveToDisk(path_out_sampled, overwrite_permission=OverwritePermission.OVERWRITE_PATCH)"
   ]
  },
  {
   "cell_type": "code",
   "execution_count": 28,
   "metadata": {},
   "outputs": [
    {
     "data": {
      "image/svg+xml": [
       "<?xml version=\"1.0\" encoding=\"UTF-8\" standalone=\"no\"?>\r\n",
       "<!DOCTYPE svg PUBLIC \"-//W3C//DTD SVG 1.1//EN\"\r\n",
       " \"http://www.w3.org/Graphics/SVG/1.1/DTD/svg11.dtd\">\r\n",
       "<!-- Generated by graphviz version 2.38.0 (20140413.2041)\r\n",
       " -->\r\n",
       "<!-- Title: %3 Pages: 1 -->\r\n",
       "<svg width=\"844pt\" height=\"44pt\"\r\n",
       " viewBox=\"0.00 0.00 843.54 44.00\" xmlns=\"http://www.w3.org/2000/svg\" xmlns:xlink=\"http://www.w3.org/1999/xlink\">\r\n",
       "<g id=\"graph0\" class=\"graph\" transform=\"scale(1 1) rotate(0) translate(4 40)\">\r\n",
       "<title>%3</title>\r\n",
       "<polygon fill=\"white\" stroke=\"none\" points=\"-4,4 -4,-40 839.539,-40 839.539,4 -4,4\"/>\r\n",
       "<!-- LoadFromDisk -->\r\n",
       "<g id=\"node1\" class=\"node\"><title>LoadFromDisk</title>\r\n",
       "<ellipse fill=\"none\" stroke=\"black\" cx=\"66.2941\" cy=\"-18\" rx=\"66.0889\" ry=\"18\"/>\r\n",
       "<text text-anchor=\"middle\" x=\"66.2941\" y=\"-14.3\" font-family=\"Times New Roman,serif\" font-size=\"14.00\">LoadFromDisk</text>\r\n",
       "</g>\r\n",
       "<!-- ConcatenateData -->\r\n",
       "<g id=\"node2\" class=\"node\"><title>ConcatenateData</title>\r\n",
       "<ellipse fill=\"none\" stroke=\"black\" cx=\"240.732\" cy=\"-18\" rx=\"72.2875\" ry=\"18\"/>\r\n",
       "<text text-anchor=\"middle\" x=\"240.732\" y=\"-14.3\" font-family=\"Times New Roman,serif\" font-size=\"14.00\">ConcatenateData</text>\r\n",
       "</g>\r\n",
       "<!-- LoadFromDisk&#45;&gt;ConcatenateData -->\r\n",
       "<g id=\"edge1\" class=\"edge\"><title>LoadFromDisk&#45;&gt;ConcatenateData</title>\r\n",
       "<path fill=\"none\" stroke=\"black\" d=\"M132.977,-18C141.232,-18 149.754,-18 158.216,-18\"/>\r\n",
       "<polygon fill=\"black\" stroke=\"black\" points=\"158.484,-21.5001 168.484,-18 158.484,-14.5001 158.484,-21.5001\"/>\r\n",
       "</g>\r\n",
       "<!-- SimpleFilterTask -->\r\n",
       "<g id=\"node3\" class=\"node\"><title>SimpleFilterTask</title>\r\n",
       "<ellipse fill=\"none\" stroke=\"black\" cx=\"421.019\" cy=\"-18\" rx=\"72.2875\" ry=\"18\"/>\r\n",
       "<text text-anchor=\"middle\" x=\"421.019\" y=\"-14.3\" font-family=\"Times New Roman,serif\" font-size=\"14.00\">SimpleFilterTask</text>\r\n",
       "</g>\r\n",
       "<!-- ConcatenateData&#45;&gt;SimpleFilterTask -->\r\n",
       "<g id=\"edge2\" class=\"edge\"><title>ConcatenateData&#45;&gt;SimpleFilterTask</title>\r\n",
       "<path fill=\"none\" stroke=\"black\" d=\"M312.964,-18C321.308,-18 329.87,-18 338.341,-18\"/>\r\n",
       "<polygon fill=\"black\" stroke=\"black\" points=\"338.609,-21.5001 348.609,-18 338.609,-14.5001 338.609,-21.5001\"/>\r\n",
       "</g>\r\n",
       "<!-- LinearInterpolation -->\r\n",
       "<g id=\"node4\" class=\"node\"><title>LinearInterpolation</title>\r\n",
       "<ellipse fill=\"none\" stroke=\"black\" cx=\"608.456\" cy=\"-18\" rx=\"79.0865\" ry=\"18\"/>\r\n",
       "<text text-anchor=\"middle\" x=\"608.456\" y=\"-14.3\" font-family=\"Times New Roman,serif\" font-size=\"14.00\">LinearInterpolation</text>\r\n",
       "</g>\r\n",
       "<!-- SimpleFilterTask&#45;&gt;LinearInterpolation -->\r\n",
       "<g id=\"edge3\" class=\"edge\"><title>SimpleFilterTask&#45;&gt;LinearInterpolation</title>\r\n",
       "<path fill=\"none\" stroke=\"black\" d=\"M493.183,-18C501.626,-18 510.32,-18 518.966,-18\"/>\r\n",
       "<polygon fill=\"black\" stroke=\"black\" points=\"519.074,-21.5001 529.074,-18 519.074,-14.5001 519.074,-21.5001\"/>\r\n",
       "</g>\r\n",
       "<!-- SaveToDisk -->\r\n",
       "<g id=\"node5\" class=\"node\"><title>SaveToDisk</title>\r\n",
       "<ellipse fill=\"none\" stroke=\"black\" cx=\"779.644\" cy=\"-18\" rx=\"55.7903\" ry=\"18\"/>\r\n",
       "<text text-anchor=\"middle\" x=\"779.644\" y=\"-14.3\" font-family=\"Times New Roman,serif\" font-size=\"14.00\">SaveToDisk</text>\r\n",
       "</g>\r\n",
       "<!-- LinearInterpolation&#45;&gt;SaveToDisk -->\r\n",
       "<g id=\"edge4\" class=\"edge\"><title>LinearInterpolation&#45;&gt;SaveToDisk</title>\r\n",
       "<path fill=\"none\" stroke=\"black\" d=\"M688.106,-18C696.479,-18 704.93,-18 713.129,-18\"/>\r\n",
       "<polygon fill=\"black\" stroke=\"black\" points=\"713.355,-21.5001 723.355,-18 713.355,-14.5001 713.355,-21.5001\"/>\r\n",
       "</g>\r\n",
       "</g>\r\n",
       "</svg>\r\n"
      ],
      "text/plain": [
       "<graphviz.dot.Digraph at 0x2631b7ba828>"
      ]
     },
     "execution_count": 28,
     "metadata": {},
     "output_type": "execute_result"
    }
   ],
   "source": [
    "# Define the workflow\n",
    "workflow = LinearWorkflow(\n",
    "    load,\n",
    "    concatenate,\n",
    "    filter_task,\n",
    "    linear_interp,\n",
    "    save\n",
    ")\n",
    "# Let's visualize it\n",
    "workflow.dependency_graph()"
   ]
  },
  {
   "cell_type": "code",
   "execution_count": 29,
   "metadata": {},
   "outputs": [
    {
     "data": {
      "application/vnd.jupyter.widget-view+json": {
       "model_id": "420a061ed0854628b40f000676e50d78",
       "version_major": 2,
       "version_minor": 0
      },
      "text/plain": [
       "HBox(children=(IntProgress(value=0, max=1), HTML(value='')))"
      ]
     },
     "metadata": {},
     "output_type": "display_data"
    },
    {
     "name": "stdout",
     "output_type": "stream",
     "text": [
      "\n",
      "Wall time: 26.2 s\n"
     ]
    }
   ],
   "source": [
    "%%time\n",
    "   \n",
    "execution_args = []\n",
    "execution_args.append({load: {'eopatch_folder': 'eopatch_1'}, save: {'eopatch_folder': 'eopatch_1'}})\n",
    "\n",
    "    \n",
    "executor = EOExecutor(workflow, execution_args, save_logs=True, logs_folder=LOGS_FOLDER)\n",
    "executor.run(workers=1, multiprocess=False)\n",
    "\n",
    "executor.make_report()"
   ]
  },
  {
   "cell_type": "markdown",
   "metadata": {},
   "source": [
    "# Predict"
   ]
  },
  {
   "cell_type": "code",
   "execution_count": 4,
   "metadata": {},
   "outputs": [],
   "source": [
    "class PredictPatch(EOTask):\n",
    "    \"\"\"\n",
    "    Task to make model predictions on a patch. Provide the model and the feature, \n",
    "    and the output names of labels and scores (optional)\n",
    "    \"\"\"\n",
    "    def __init__(self, model, features_feature, predicted_labels_name, predicted_scores_name=None):\n",
    "        self.model = model\n",
    "        self.features_feature = features_feature\n",
    "        self.predicted_labels_name = predicted_labels_name\n",
    "        self.predicted_scores_name = predicted_scores_name\n",
    "        \n",
    "    def execute(self, eopatch):\n",
    "        ftrs = eopatch[self.features_feature[0]][self.features_feature[1]]\n",
    "        \n",
    "        t, w, h, f = ftrs.shape\n",
    "        ftrs = np.moveaxis(ftrs, 0, 2).reshape(w * h, t * f)\n",
    "        \n",
    "        plabels = self.model.predict(ftrs)\n",
    "        plabels = plabels.reshape(w, h)\n",
    "        plabels = plabels[..., np.newaxis]\n",
    "        eopatch.add_feature(FeatureType.MASK_TIMELESS, self.predicted_labels_name, plabels)\n",
    "        \n",
    "        if self.predicted_scores_name:\n",
    "            pscores = self.model.predict_proba(ftrs)\n",
    "            _, d = pscores.shape\n",
    "            pscores = pscores.reshape(w, h, d)\n",
    "            eopatch.add_feature(FeatureType.DATA_TIMELESS, self.predicted_scores_name, pscores)\n",
    "        \n",
    "        return eopatch"
   ]
  },
  {
   "cell_type": "code",
   "execution_count": 5,
   "metadata": {},
   "outputs": [
    {
     "data": {
      "image/svg+xml": [
       "<?xml version=\"1.0\" encoding=\"UTF-8\" standalone=\"no\"?>\r\n",
       "<!DOCTYPE svg PUBLIC \"-//W3C//DTD SVG 1.1//EN\"\r\n",
       " \"http://www.w3.org/Graphics/SVG/1.1/DTD/svg11.dtd\">\r\n",
       "<!-- Generated by graphviz version 2.38.0 (20140413.2041)\r\n",
       " -->\r\n",
       "<!-- Title: %3 Pages: 1 -->\r\n",
       "<svg width=\"594pt\" height=\"44pt\"\r\n",
       " viewBox=\"0.00 0.00 594.36 44.00\" xmlns=\"http://www.w3.org/2000/svg\" xmlns:xlink=\"http://www.w3.org/1999/xlink\">\r\n",
       "<g id=\"graph0\" class=\"graph\" transform=\"scale(1 1) rotate(0) translate(4 40)\">\r\n",
       "<title>%3</title>\r\n",
       "<polygon fill=\"white\" stroke=\"none\" points=\"-4,4 -4,-40 590.358,-40 590.358,4 -4,4\"/>\r\n",
       "<!-- LoadFromDisk -->\r\n",
       "<g id=\"node1\" class=\"node\"><title>LoadFromDisk</title>\r\n",
       "<ellipse fill=\"none\" stroke=\"black\" cx=\"66.2941\" cy=\"-18\" rx=\"66.0889\" ry=\"18\"/>\r\n",
       "<text text-anchor=\"middle\" x=\"66.2941\" y=\"-14.3\" font-family=\"Times New Roman,serif\" font-size=\"14.00\">LoadFromDisk</text>\r\n",
       "</g>\r\n",
       "<!-- PredictPatch -->\r\n",
       "<g id=\"node2\" class=\"node\"><title>PredictPatch</title>\r\n",
       "<ellipse fill=\"none\" stroke=\"black\" cx=\"225.783\" cy=\"-18\" rx=\"57.3905\" ry=\"18\"/>\r\n",
       "<text text-anchor=\"middle\" x=\"225.783\" y=\"-14.3\" font-family=\"Times New Roman,serif\" font-size=\"14.00\">PredictPatch</text>\r\n",
       "</g>\r\n",
       "<!-- LoadFromDisk&#45;&gt;PredictPatch -->\r\n",
       "<g id=\"edge1\" class=\"edge\"><title>LoadFromDisk&#45;&gt;PredictPatch</title>\r\n",
       "<path fill=\"none\" stroke=\"black\" d=\"M132.715,-18C141.127,-18 149.747,-18 158.178,-18\"/>\r\n",
       "<polygon fill=\"black\" stroke=\"black\" points=\"158.34,-21.5001 168.34,-18 158.34,-14.5001 158.34,-21.5001\"/>\r\n",
       "</g>\r\n",
       "<!-- ExportToTiff -->\r\n",
       "<g id=\"node3\" class=\"node\"><title>ExportToTiff</title>\r\n",
       "<ellipse fill=\"none\" stroke=\"black\" cx=\"378.773\" cy=\"-18\" rx=\"59.5901\" ry=\"18\"/>\r\n",
       "<text text-anchor=\"middle\" x=\"378.773\" y=\"-14.3\" font-family=\"Times New Roman,serif\" font-size=\"14.00\">ExportToTiff</text>\r\n",
       "</g>\r\n",
       "<!-- PredictPatch&#45;&gt;ExportToTiff -->\r\n",
       "<g id=\"edge2\" class=\"edge\"><title>PredictPatch&#45;&gt;ExportToTiff</title>\r\n",
       "<path fill=\"none\" stroke=\"black\" d=\"M283.006,-18C291.443,-18 300.224,-18 308.888,-18\"/>\r\n",
       "<polygon fill=\"black\" stroke=\"black\" points=\"308.977,-21.5001 318.977,-18 308.977,-14.5001 308.977,-21.5001\"/>\r\n",
       "</g>\r\n",
       "<!-- SaveToDisk -->\r\n",
       "<g id=\"node4\" class=\"node\"><title>SaveToDisk</title>\r\n",
       "<ellipse fill=\"none\" stroke=\"black\" cx=\"530.463\" cy=\"-18\" rx=\"55.7903\" ry=\"18\"/>\r\n",
       "<text text-anchor=\"middle\" x=\"530.463\" y=\"-14.3\" font-family=\"Times New Roman,serif\" font-size=\"14.00\">SaveToDisk</text>\r\n",
       "</g>\r\n",
       "<!-- ExportToTiff&#45;&gt;SaveToDisk -->\r\n",
       "<g id=\"edge3\" class=\"edge\"><title>ExportToTiff&#45;&gt;SaveToDisk</title>\r\n",
       "<path fill=\"none\" stroke=\"black\" d=\"M438.934,-18C447.184,-18 455.7,-18 464.057,-18\"/>\r\n",
       "<polygon fill=\"black\" stroke=\"black\" points=\"464.142,-21.5001 474.142,-18 464.142,-14.5001 464.142,-21.5001\"/>\r\n",
       "</g>\r\n",
       "</g>\r\n",
       "</svg>\r\n"
      ],
      "text/plain": [
       "<graphviz.dot.Digraph at 0x260d8945a20>"
      ]
     },
     "execution_count": 5,
     "metadata": {},
     "output_type": "execute_result"
    }
   ],
   "source": [
    "# TASK TO LOAD EXISTING EOPATCHES\n",
    "load = LoadFromDisk(path_out_sampled)\n",
    "\n",
    "# TASK FOR PREDICTION\n",
    "model = joblib.load(model_path)\n",
    "\n",
    "predict = PredictPatch(model, (FeatureType.DATA, 'FEATURES'), 'LBL_GBM', 'SCR_GBM')\n",
    "\n",
    "# TASK FOR CLEANING SPECKLES\n",
    "#clean_speckles = ValueFilloutTask('LBL_GBM') \n",
    "#clean_speckles = ValueFilloutTask(feature=(FeatureType.MASK_TIMELESS,'LBL_GBM'), operations='fb')\n",
    "\n",
    "# TASK TO EXPORT TIFF\n",
    "export_tiff = ExportToTiff((FeatureType.MASK_TIMELESS, 'LBL_GBM'))\n",
    "    \n",
    "# TASK FOR SAVING\n",
    "save = SaveToDisk(path_out_sampled, overwrite_permission=OverwritePermission.OVERWRITE_PATCH)\n",
    "#save = SaveToDisk('./eopatches_sampled_small1/', overwrite_permission=OverwritePermission.OVERWRITE_PATCH)\n",
    "\n",
    "workflow = LinearWorkflow(\n",
    "    load,\n",
    "    predict,\n",
    "    export_tiff,\n",
    "    save\n",
    ")\n",
    "workflow.dependency_graph()"
   ]
  },
  {
   "cell_type": "code",
   "execution_count": 6,
   "metadata": {},
   "outputs": [
    {
     "data": {
      "application/vnd.jupyter.widget-view+json": {
       "model_id": "87f5ce9bf7d8400395464a69c3d7153c",
       "version_major": 2,
       "version_minor": 0
      },
      "text/plain": [
       "HBox(children=(IntProgress(value=0, max=1), HTML(value='')))"
      ]
     },
     "metadata": {},
     "output_type": "display_data"
    },
    {
     "name": "stdout",
     "output_type": "stream",
     "text": [
      "\n",
      "Wall time: 1min 34s\n"
     ]
    }
   ],
   "source": [
    "%%time\n",
    "\n",
    "execution_args = []\n",
    "\n",
    "execution_args.append({load: {'eopatch_folder': 'eopatch_1'},\n",
    "                       export_tiff: {'filename': '{}/prediction_eopatch_2.tiff'.format(tiff_location)},\n",
    "                       save: {'eopatch_folder': 'eopatch_1'}})\n",
    "\n",
    "executor = EOExecutor(workflow, execution_args, save_logs=True, logs_folder=LOGS_FOLDER)\n",
    "\n",
    "executor.run(workers=1, multiprocess=False)\n",
    "executor.make_report()"
   ]
  },
  {
   "cell_type": "markdown",
   "metadata": {},
   "source": [
    "# Post processing raster"
   ]
  },
  {
   "cell_type": "code",
   "execution_count": 18,
   "metadata": {},
   "outputs": [],
   "source": [
    "from arcpy.sa import *\n",
    "\n",
    "strRasterPath = os.path.join(tiff_location, 'prediction_eopatch_100.tiff')\n",
    "\n",
    "majFilter = MajorityFilter(strRasterPath, number_neighbors='FOUR', majority_definition='MAJORITY')\n"
   ]
  },
  {
   "cell_type": "code",
   "execution_count": null,
   "metadata": {},
   "outputs": [],
   "source": []
  }
 ],
 "metadata": {
  "kernelspec": {
   "display_name": "Python [conda env:arcgispro] *",
   "language": "python",
   "name": "conda-env-arcgispro-py"
  },
  "language_info": {
   "codemirror_mode": {
    "name": "ipython",
    "version": 3
   },
   "file_extension": ".py",
   "mimetype": "text/x-python",
   "name": "python",
   "nbconvert_exporter": "python",
   "pygments_lexer": "ipython3",
   "version": "3.6.7"
  }
 },
 "nbformat": 4,
 "nbformat_minor": 4
}
