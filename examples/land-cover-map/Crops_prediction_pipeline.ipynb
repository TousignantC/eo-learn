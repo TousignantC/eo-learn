{
 "cells": [
  {
   "cell_type": "code",
   "execution_count": 2,
   "metadata": {},
   "outputs": [],
   "source": [
    "# Firstly, some necessary imports\n",
    "\n",
    "# Jupyter notebook related\n",
    "%reload_ext autoreload\n",
    "%autoreload 2\n",
    "%matplotlib inline\n",
    "\n",
    "# Built-in modules\n",
    "import pickle\n",
    "import sys\n",
    "import os\n",
    "import datetime\n",
    "import itertools\n",
    "from enum import Enum\n",
    "\n",
    "# Basics of Python data handling and visualization\n",
    "import numpy as np\n",
    "import geopandas as gpd\n",
    "import matplotlib as mpl\n",
    "import matplotlib.pyplot as plt\n",
    "import matplotlib.gridspec as gridspec\n",
    "from mpl_toolkits.axes_grid1 import make_axes_locatable\n",
    "from shapely.geometry import Polygon\n",
    "from tqdm import tqdm_notebook as tqdm\n",
    "            \n",
    "# Machine learning \n",
    "import lightgbm as lgb\n",
    "import joblib\n",
    "#from sklearn.externals import joblib\n",
    "from sklearn import metrics\n",
    "from sklearn import preprocessing\n",
    "\n",
    "# Imports from eo-learn and sentinelhub-py\n",
    "from eolearn.core import EOTask, EOPatch, LinearWorkflow, FeatureType, OverwritePermission, \\\n",
    "    LoadFromDisk, SaveToDisk, EOExecutor\n",
    "from eolearn.io import S2L1CWCSInput, ExportToTiff\n",
    "from eolearn.mask import AddCloudMaskTask, get_s2_pixel_cloud_detector, AddValidDataMaskTask\n",
    "from eolearn.geometry import VectorToRaster, PointSamplingTask, ErosionTask\n",
    "from eolearn.features import LinearInterpolation, SimpleFilterTask\n",
    "from sentinelhub import BBoxSplitter, BBox, CRS, CustomUrlParam\n",
    "\n",
    "from pandas.plotting import register_matplotlib_converters\n",
    "register_matplotlib_converters()"
   ]
  },
  {
   "cell_type": "code",
   "execution_count": 15,
   "metadata": {},
   "outputs": [
    {
     "name": "stdout",
     "output_type": "stream",
     "text": [
      "Dimension of the area is 50871 x 36009 m2\n"
     ]
    },
    {
     "data": {
      "image/png": "[encoded data removed]",
      "text/plain": [
       "<Figure size 432x288 with 1 Axes>"
      ]
     },
     "metadata": {
      "needs_background": "light"
     },
     "output_type": "display_data"
    }
   ],
   "source": [
    "# Folder where data for running the notebook is stored\n",
    "DATA_FOLDER = 'C:\\data'\n",
    "\n",
    "# Load geojson file\n",
    "area = gpd.read_file(os.path.join(DATA_FOLDER, 'Drummond.geojson'))\n",
    "\n",
    "# Convert CRS to UTM_18N\n",
    "area_crs = CRS.UTM_18N\n",
    "area = area.to_crs(crs={'init': CRS.ogc_string(area_crs)})\n",
    "\n",
    "# Get the area shape in polygon format\n",
    "area_shape = area.geometry.values.tolist()[-1]\n",
    "\n",
    "# Plot area\n",
    "area.plot()\n",
    "plt.axis('off');\n",
    "\n",
    "# Print size \n",
    "print('Dimension of the area is {0:.0f} x {1:.0f} m2'.format(area_shape.bounds[2] - area_shape.bounds[0],\n",
    "                                                             area_shape.bounds[3] - area_shape.bounds[1]))"
   ]
  }
 ],
 "metadata": {
  "kernelspec": {
   "display_name": "Python [conda env:arcgispro] *",
   "language": "python",
   "name": "conda-env-arcgispro-py"
  },
  "language_info": {
   "codemirror_mode": {
    "name": "ipython",
    "version": 3
   },
   "file_extension": ".py",
   "mimetype": "text/x-python",
   "name": "python",
   "nbconvert_exporter": "python",
   "pygments_lexer": "ipython3",
   "version": "3.6.7"
  }
 },
 "nbformat": 4,
 "nbformat_minor": 4
}
