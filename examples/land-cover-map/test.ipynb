{
 "cells": [
  {
   "cell_type": "code",
   "execution_count": 38,
   "metadata": {},
   "outputs": [],
   "source": [
    "from sportsreference.nhl.roster import Player\n",
    "from sportsreference.nhl.roster import Roster\n",
    "    "
   ]
  },
  {
   "cell_type": "code",
   "execution_count": 80,
   "metadata": {},
   "outputs": [],
   "source": [
    "PIT = ['crosbsi01', 'malkiev01', 'letankr01']"
   ]
  },
  {
   "cell_type": "code",
   "execution_count": 82,
   "metadata": {},
   "outputs": [],
   "source": [
    "def get_player_stats(listPlayerId):\n",
    "    for playerId in listPlayerId:\n",
    "        listSeason = ['2015-16', '2016-17', '2017-18', '2018-19', '2019-20']\n",
    "        player = Player(playerId)\n",
    "        if player.name != None:\n",
    "            print(player.name)\n",
    "        for season in listSeason:\n",
    "            if player(season).games_played != None:\n",
    "                print(player(season).games_played)\n",
    "                print(\"{}: {:.2f}\".format(season, player(season).shots_on_goal/player(season).games_played))\n",
    "        if player('Career').games_played != None:\n",
    "            print(\"Career:  {:.2f}\".format(player('Career').shots_on_goal/player('Career').games_played))\n",
    "        print('-'*20)\n",
    "\n",
    "#get_player_stats('letankr01')\n"
   ]
  },
  {
   "cell_type": "code",
   "execution_count": 83,
   "metadata": {},
   "outputs": [
    {
     "name": "stdout",
     "output_type": "stream",
     "text": [
      "Sidney Crosby\n",
      "80\n",
      "2015-16: 3.10\n",
      "75\n",
      "2016-17: 3.40\n",
      "82\n",
      "2017-18: 3.01\n",
      "79\n",
      "2018-19: 2.78\n",
      "79\n",
      "2019-20: 2.78\n",
      "Career:  3.25\n",
      "--------------------\n",
      "Evgeni Malkin\n",
      "57\n",
      "2015-16: 2.84\n",
      "62\n",
      "2016-17: 3.08\n",
      "78\n",
      "2017-18: 3.06\n",
      "68\n",
      "2018-19: 2.75\n",
      "68\n",
      "2019-20: 2.75\n",
      "Career:  3.37\n",
      "--------------------\n",
      "Kris Letang\n",
      "71\n",
      "2015-16: 3.07\n",
      "41\n",
      "2016-17: 2.98\n",
      "79\n",
      "2017-18: 2.81\n",
      "65\n",
      "2018-19: 3.17\n",
      "65\n",
      "2019-20: 3.17\n",
      "Career:  2.59\n",
      "--------------------\n"
     ]
    }
   ],
   "source": [
    "get_player_stats(PIT)"
   ]
  },
  {
   "cell_type": "code",
   "execution_count": 77,
   "metadata": {},
   "outputs": [
    {
     "name": "stdout",
     "output_type": "stream",
     "text": [
      "Simon Benoit\n",
      "--------------------\n",
      "Kevin Boyle\n",
      "--------------------\n",
      "Alex Broadhurst\n",
      "2\n",
      "2015-16: 0.50\n",
      "2\n",
      "2016-17: 0.50\n",
      "2\n",
      "2017-18: 0.50\n",
      "2\n",
      "2018-19: 0.50\n",
      "2\n",
      "2019-20: 0.50\n",
      "Career:  0.50\n",
      "--------------------\n"
     ]
    },
    {
     "ename": "TypeError",
     "evalue": "'NoneType' object is not iterable",
     "output_type": "error",
     "traceback": [
      "\u001b[1;31m---------------------------------------------------------------------------\u001b[0m",
      "\u001b[1;31mTypeError\u001b[0m                                 Traceback (most recent call last)",
      "\u001b[1;32m<ipython-input-77-ec6543901e22>\u001b[0m in \u001b[0;36m<module>\u001b[1;34m\u001b[0m\n\u001b[0;32m      4\u001b[0m         \u001b[0mget_player_stats\u001b[0m\u001b[1;33m(\u001b[0m\u001b[0mplayer\u001b[0m\u001b[1;33m.\u001b[0m\u001b[0mplayer_id\u001b[0m\u001b[1;33m)\u001b[0m\u001b[1;33m\u001b[0m\u001b[1;33m\u001b[0m\u001b[0m\n\u001b[0;32m      5\u001b[0m \u001b[1;33m\u001b[0m\u001b[0m\n\u001b[1;32m----> 6\u001b[1;33m \u001b[0mget_roster_stats\u001b[0m\u001b[1;33m(\u001b[0m\u001b[1;34m'ANA'\u001b[0m\u001b[1;33m)\u001b[0m\u001b[1;33m\u001b[0m\u001b[1;33m\u001b[0m\u001b[0m\n\u001b[0m",
      "\u001b[1;32m<ipython-input-77-ec6543901e22>\u001b[0m in \u001b[0;36mget_roster_stats\u001b[1;34m(teamAbb)\u001b[0m\n\u001b[0;32m      2\u001b[0m     \u001b[0mroster\u001b[0m \u001b[1;33m=\u001b[0m \u001b[0mRoster\u001b[0m\u001b[1;33m(\u001b[0m\u001b[0mteamAbb\u001b[0m\u001b[1;33m)\u001b[0m\u001b[1;33m\u001b[0m\u001b[1;33m\u001b[0m\u001b[0m\n\u001b[0;32m      3\u001b[0m     \u001b[1;32mfor\u001b[0m \u001b[0mplayer\u001b[0m \u001b[1;32min\u001b[0m \u001b[0mroster\u001b[0m\u001b[1;33m.\u001b[0m\u001b[0mplayers\u001b[0m\u001b[1;33m:\u001b[0m\u001b[1;33m\u001b[0m\u001b[1;33m\u001b[0m\u001b[0m\n\u001b[1;32m----> 4\u001b[1;33m         \u001b[0mget_player_stats\u001b[0m\u001b[1;33m(\u001b[0m\u001b[0mplayer\u001b[0m\u001b[1;33m.\u001b[0m\u001b[0mplayer_id\u001b[0m\u001b[1;33m)\u001b[0m\u001b[1;33m\u001b[0m\u001b[1;33m\u001b[0m\u001b[0m\n\u001b[0m\u001b[0;32m      5\u001b[0m \u001b[1;33m\u001b[0m\u001b[0m\n\u001b[0;32m      6\u001b[0m \u001b[0mget_roster_stats\u001b[0m\u001b[1;33m(\u001b[0m\u001b[1;34m'ANA'\u001b[0m\u001b[1;33m)\u001b[0m\u001b[1;33m\u001b[0m\u001b[1;33m\u001b[0m\u001b[0m\n",
      "\u001b[1;32m<ipython-input-76-de2e7d4f337e>\u001b[0m in \u001b[0;36mget_player_stats\u001b[1;34m(playerID)\u001b[0m\n\u001b[0;32m      5\u001b[0m         \u001b[0mprint\u001b[0m\u001b[1;33m(\u001b[0m\u001b[0mplayer\u001b[0m\u001b[1;33m.\u001b[0m\u001b[0mname\u001b[0m\u001b[1;33m)\u001b[0m\u001b[1;33m\u001b[0m\u001b[1;33m\u001b[0m\u001b[0m\n\u001b[0;32m      6\u001b[0m     \u001b[1;32mfor\u001b[0m \u001b[0mseason\u001b[0m \u001b[1;32min\u001b[0m \u001b[0mlistSeason\u001b[0m\u001b[1;33m:\u001b[0m\u001b[1;33m\u001b[0m\u001b[1;33m\u001b[0m\u001b[0m\n\u001b[1;32m----> 7\u001b[1;33m         \u001b[1;32mif\u001b[0m \u001b[0mplayer\u001b[0m\u001b[1;33m(\u001b[0m\u001b[0mseason\u001b[0m\u001b[1;33m)\u001b[0m\u001b[1;33m.\u001b[0m\u001b[0mgames_played\u001b[0m \u001b[1;33m!=\u001b[0m \u001b[1;32mNone\u001b[0m\u001b[1;33m:\u001b[0m\u001b[1;33m\u001b[0m\u001b[1;33m\u001b[0m\u001b[0m\n\u001b[0m\u001b[0;32m      8\u001b[0m             \u001b[0mprint\u001b[0m\u001b[1;33m(\u001b[0m\u001b[0mplayer\u001b[0m\u001b[1;33m(\u001b[0m\u001b[0mseason\u001b[0m\u001b[1;33m)\u001b[0m\u001b[1;33m.\u001b[0m\u001b[0mgames_played\u001b[0m\u001b[1;33m)\u001b[0m\u001b[1;33m\u001b[0m\u001b[1;33m\u001b[0m\u001b[0m\n\u001b[0;32m      9\u001b[0m             \u001b[0mprint\u001b[0m\u001b[1;33m(\u001b[0m\u001b[1;34m\"{}: {:.2f}\"\u001b[0m\u001b[1;33m.\u001b[0m\u001b[0mformat\u001b[0m\u001b[1;33m(\u001b[0m\u001b[0mseason\u001b[0m\u001b[1;33m,\u001b[0m \u001b[0mplayer\u001b[0m\u001b[1;33m(\u001b[0m\u001b[0mseason\u001b[0m\u001b[1;33m)\u001b[0m\u001b[1;33m.\u001b[0m\u001b[0mshots_on_goal\u001b[0m\u001b[1;33m/\u001b[0m\u001b[0mplayer\u001b[0m\u001b[1;33m(\u001b[0m\u001b[0mseason\u001b[0m\u001b[1;33m)\u001b[0m\u001b[1;33m.\u001b[0m\u001b[0mgames_played\u001b[0m\u001b[1;33m)\u001b[0m\u001b[1;33m)\u001b[0m\u001b[1;33m\u001b[0m\u001b[1;33m\u001b[0m\u001b[0m\n",
      "\u001b[1;32mD:\\Anaconda3\\envs\\geo_py37\\lib\\site-packages\\sportsreference\\nhl\\roster.py\u001b[0m in \u001b[0;36m__call__\u001b[1;34m(self, requested_season)\u001b[0m\n\u001b[0;32m    385\u001b[0m             \u001b[0mrequested_season\u001b[0m \u001b[1;33m=\u001b[0m \u001b[1;34m'Career'\u001b[0m\u001b[1;33m\u001b[0m\u001b[1;33m\u001b[0m\u001b[0m\n\u001b[0;32m    386\u001b[0m         \u001b[0mindex\u001b[0m \u001b[1;33m=\u001b[0m \u001b[1;36m0\u001b[0m\u001b[1;33m\u001b[0m\u001b[1;33m\u001b[0m\u001b[0m\n\u001b[1;32m--> 387\u001b[1;33m         \u001b[1;32mfor\u001b[0m \u001b[0mseason\u001b[0m \u001b[1;32min\u001b[0m \u001b[0mself\u001b[0m\u001b[1;33m.\u001b[0m\u001b[0m_season\u001b[0m\u001b[1;33m:\u001b[0m\u001b[1;33m\u001b[0m\u001b[1;33m\u001b[0m\u001b[0m\n\u001b[0m\u001b[0;32m    388\u001b[0m             \u001b[1;32mif\u001b[0m \u001b[0mseason\u001b[0m \u001b[1;33m==\u001b[0m \u001b[0mrequested_season\u001b[0m\u001b[1;33m:\u001b[0m\u001b[1;33m\u001b[0m\u001b[1;33m\u001b[0m\u001b[0m\n\u001b[0;32m    389\u001b[0m                 \u001b[0mself\u001b[0m\u001b[1;33m.\u001b[0m\u001b[0m_index\u001b[0m \u001b[1;33m=\u001b[0m \u001b[0mindex\u001b[0m\u001b[1;33m\u001b[0m\u001b[1;33m\u001b[0m\u001b[0m\n",
      "\u001b[1;31mTypeError\u001b[0m: 'NoneType' object is not iterable"
     ]
    }
   ],
   "source": [
    "# def get_roster_stats(teamAbb):\n",
    "#     roster = Roster(teamAbb)\n",
    "#     for player in roster.players:\n",
    "#         get_player_stats(player.player_id)\n",
    "\n",
    "# get_roster_stats('ANA')\n"
   ]
  },
  {
   "cell_type": "code",
   "execution_count": 6,
   "metadata": {},
   "outputs": [
    {
     "ename": "SyntaxError",
     "evalue": "unexpected EOF while parsing (<ipython-input-6-9531ec5d0abf>, line 4)",
     "output_type": "error",
     "traceback": [
      "\u001b[1;36m  File \u001b[1;32m\"<ipython-input-6-9531ec5d0abf>\"\u001b[1;36m, line \u001b[1;32m4\u001b[0m\n\u001b[1;33m    print(type(teams)\u001b[0m\n\u001b[1;37m                     ^\u001b[0m\n\u001b[1;31mSyntaxError\u001b[0m\u001b[1;31m:\u001b[0m unexpected EOF while parsing\n"
     ]
    }
   ],
   "source": [
    "from sportsreference.nhl.teams import Teams\n",
    "\n",
    "teams = Teams(2018)\n",
    "print(teams.abbreviation)"
   ]
  }
 ],
 "metadata": {
  "kernelspec": {
   "display_name": "Python 3",
   "language": "python",
   "name": "python3"
  },
  "language_info": {
   "codemirror_mode": {
    "name": "ipython",
    "version": 3
   },
   "file_extension": ".py",
   "mimetype": "text/x-python",
   "name": "python",
   "nbconvert_exporter": "python",
   "pygments_lexer": "ipython3",
   "version": "3.6.7"
  }
 },
 "nbformat": 4,
 "nbformat_minor": 4
}
